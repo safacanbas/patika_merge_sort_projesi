{
 "cells": [
  {
   "cell_type": "markdown",
   "id": "67e0cd72-642f-4d96-8704-1c0f3dc3329d",
   "metadata": {
    "tags": []
   },
   "source": [
    "## Proje 2"
   ]
  },
  {
   "cell_type": "markdown",
   "id": "39eb4a28-ac12-40ce-9c5e-8ec2dc7d653b",
   "metadata": {},
   "source": [
    "[16,21,11,8,12,22] -> Merge Sort\n",
    "\n",
    "    *Yukarıdaki dizinin sort türüne göre aşamalarını yazınız.\n",
    "    *Big-O gösterimini yazınız."
   ]
  },
  {
   "cell_type": "markdown",
   "id": "b255e36f-4643-4687-829a-755d7bb09c1c",
   "metadata": {},
   "source": [
    "# Cevap"
   ]
  },
  {
   "cell_type": "markdown",
   "id": "e07de307-b478-4e71-8e00-1e4900fb6a18",
   "metadata": {},
   "source": [
    "    a.  [16,21,11,8,12,22]\n",
    "    b.  [16,21,11]  [8,12,22]\n",
    "    c.  [16]  [21,11]  [8]  [12,22]\n",
    "    d.  [16]  [21]  [11]  [8]  [12]  [22]\n",
    "    e.  [16]  [11,21]  [8]  [12,22]\n",
    "    f.  [11,16,21]  [8,12,22]\n",
    "    g.  [8,11,12,16,21,22]"
   ]
  },
  {
   "cell_type": "markdown",
   "id": "0ae4c3bf-c9fa-4ad2-9ea8-bb9f7a9e3215",
   "metadata": {},
   "source": [
    "O(nlogn)"
   ]
  }
 ],
 "metadata": {
  "kernelspec": {
   "display_name": "Python 3 (ipykernel)",
   "language": "python",
   "name": "python3"
  },
  "language_info": {
   "codemirror_mode": {
    "name": "ipython",
    "version": 3
   },
   "file_extension": ".py",
   "mimetype": "text/x-python",
   "name": "python",
   "nbconvert_exporter": "python",
   "pygments_lexer": "ipython3",
   "version": "3.10.4"
  }
 },
 "nbformat": 4,
 "nbformat_minor": 5
}
